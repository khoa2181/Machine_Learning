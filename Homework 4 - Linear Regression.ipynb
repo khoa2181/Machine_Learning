{
 "cells": [
  {
   "cell_type": "code",
   "execution_count": 1,
   "metadata": {
    "collapsed": true
   },
   "outputs": [],
   "source": [
    "import numpy as np\n",
    "import matplotlib.pyplot as plt\n",
    "%matplotlib inline\n",
    "\n",
    "from numpy.linalg import inv\n",
    "import pandas as pd\n",
    "np.random.seed(1234)"
   ]
  },
  {
   "cell_type": "code",
   "execution_count": 2,
   "outputs": [
    {
     "data": {
      "text/plain": "<Figure size 432x288 with 1 Axes>",
      "image/png": "[encoded data removed]"
     },
     "metadata": {
      "needs_background": "light"
     },
     "output_type": "display_data"
    }
   ],
   "source": [
    "def create_toy_data(func, sample_size, std):\n",
    "    x = np.linspace(0, 1, sample_size)\n",
    "    t = func(x) + np.random.normal(scale=std, size=x.shape)\n",
    "    return x, t\n",
    "\n",
    "def func(x):\n",
    "    return np.sin(2 * np.pi * x)\n",
    "\n",
    "x_train, y_train = create_toy_data(func, 10, 0.25)\n",
    "x_test = np.linspace(0, 1, 100)\n",
    "y_test = func(x_test)\n",
    "\n",
    "x_val, y_val = create_toy_data(func, 10, 0.25)\n",
    "\n",
    "plt.scatter(x_train, y_train, facecolor=\"none\", edgecolor=\"b\", s=50, label=\"training data\")\n",
    "plt.scatter(x_val, y_val, facecolor=\"none\", edgecolor=\"r\", s=50, label=\"val data\")\n",
    "\n",
    "plt.plot(x_test, y_test, c=\"g\", label=\"$\\sin(2\\pi x)$\")\n",
    "plt.legend()\n",
    "plt.show()"
   ],
   "metadata": {
    "collapsed": false,
    "pycharm": {
     "name": "#%%\n"
    }
   }
  },
  {
   "cell_type": "markdown",
   "source": [
    "1. sample thêm 10 điểm dữ liệu cho tập valdiation\n",
    "2. fit 3 model đa thức (bậc 1, bậc 3, bậc 9) cho dữ liệu trên, đánh giá mức độ underfitting, overfitting của 3 model và tính loss train/val."
   ],
   "metadata": {
    "collapsed": false
   }
  },
  {
   "cell_type": "code",
   "execution_count": 3,
   "outputs": [],
   "source": [
    "def mse(truth, predict):\n",
    "    truth = np.array(truth)\n",
    "    predict = np.array(predict)\n",
    "    return np.mean((truth - predict) ** 2)"
   ],
   "metadata": {
    "collapsed": false,
    "pycharm": {
     "name": "#%%\n"
    }
   }
  },
  {
   "cell_type": "code",
   "execution_count": 4,
   "outputs": [
    {
     "data": {
      "text/plain": "    x_train   y_train\n0  0.000000  0.117859\n1  0.111111  0.345044\n2  0.222222  1.342984\n3  0.333333  0.787862\n4  0.444444  0.161873",
      "text/html": "<div>\n<style scoped>\n    .dataframe tbody tr th:only-of-type {\n        vertical-align: middle;\n    }\n\n    .dataframe tbody tr th {\n        vertical-align: top;\n    }\n\n    .dataframe thead th {\n        text-align: right;\n    }\n</style>\n<table border=\"1\" class=\"dataframe\">\n  <thead>\n    <tr style=\"text-align: right;\">\n      <th></th>\n      <th>x_train</th>\n      <th>y_train</th>\n    </tr>\n  </thead>\n  <tbody>\n    <tr>\n      <th>0</th>\n      <td>0.000000</td>\n      <td>0.117859</td>\n    </tr>\n    <tr>\n      <th>1</th>\n      <td>0.111111</td>\n      <td>0.345044</td>\n    </tr>\n    <tr>\n      <th>2</th>\n      <td>0.222222</td>\n      <td>1.342984</td>\n    </tr>\n    <tr>\n      <th>3</th>\n      <td>0.333333</td>\n      <td>0.787862</td>\n    </tr>\n    <tr>\n      <th>4</th>\n      <td>0.444444</td>\n      <td>0.161873</td>\n    </tr>\n  </tbody>\n</table>\n</div>"
     },
     "execution_count": 4,
     "metadata": {},
     "output_type": "execute_result"
    }
   ],
   "source": [
    "dict1 = {'x_train':x_train, 'y_train' :y_train}\n",
    "train_df = pd.DataFrame(dict1)\n",
    "train_df.head()"
   ],
   "metadata": {
    "collapsed": false,
    "pycharm": {
     "name": "#%%\n"
    }
   }
  },
  {
   "cell_type": "code",
   "execution_count": 5,
   "outputs": [
    {
     "data": {
      "text/plain": "      x_val     y_val\n0  0.000000  0.287509\n1  0.111111  0.890774\n2  0.222222  1.223139\n3  0.333333  0.360712\n4  0.444444  0.258501",
      "text/html": "<div>\n<style scoped>\n    .dataframe tbody tr th:only-of-type {\n        vertical-align: middle;\n    }\n\n    .dataframe tbody tr th {\n        vertical-align: top;\n    }\n\n    .dataframe thead th {\n        text-align: right;\n    }\n</style>\n<table border=\"1\" class=\"dataframe\">\n  <thead>\n    <tr style=\"text-align: right;\">\n      <th></th>\n      <th>x_val</th>\n      <th>y_val</th>\n    </tr>\n  </thead>\n  <tbody>\n    <tr>\n      <th>0</th>\n      <td>0.000000</td>\n      <td>0.287509</td>\n    </tr>\n    <tr>\n      <th>1</th>\n      <td>0.111111</td>\n      <td>0.890774</td>\n    </tr>\n    <tr>\n      <th>2</th>\n      <td>0.222222</td>\n      <td>1.223139</td>\n    </tr>\n    <tr>\n      <th>3</th>\n      <td>0.333333</td>\n      <td>0.360712</td>\n    </tr>\n    <tr>\n      <th>4</th>\n      <td>0.444444</td>\n      <td>0.258501</td>\n    </tr>\n  </tbody>\n</table>\n</div>"
     },
     "execution_count": 5,
     "metadata": {},
     "output_type": "execute_result"
    }
   ],
   "source": [
    "dict2 = {'x_val':x_val, 'y_val' :y_val}\n",
    "val_df = pd.DataFrame(dict2)\n",
    "val_df.head()"
   ],
   "metadata": {
    "collapsed": false,
    "pycharm": {
     "name": "#%%\n"
    }
   }
  },
  {
   "cell_type": "code",
   "execution_count": 6,
   "outputs": [
    {
     "data": {
      "text/plain": "     x_test    y_test\n0  0.000000  0.000000\n1  0.010101  0.063424\n2  0.020202  0.126592\n3  0.030303  0.189251\n4  0.040404  0.251148",
      "text/html": "<div>\n<style scoped>\n    .dataframe tbody tr th:only-of-type {\n        vertical-align: middle;\n    }\n\n    .dataframe tbody tr th {\n        vertical-align: top;\n    }\n\n    .dataframe thead th {\n        text-align: right;\n    }\n</style>\n<table border=\"1\" class=\"dataframe\">\n  <thead>\n    <tr style=\"text-align: right;\">\n      <th></th>\n      <th>x_test</th>\n      <th>y_test</th>\n    </tr>\n  </thead>\n  <tbody>\n    <tr>\n      <th>0</th>\n      <td>0.000000</td>\n      <td>0.000000</td>\n    </tr>\n    <tr>\n      <th>1</th>\n      <td>0.010101</td>\n      <td>0.063424</td>\n    </tr>\n    <tr>\n      <th>2</th>\n      <td>0.020202</td>\n      <td>0.126592</td>\n    </tr>\n    <tr>\n      <th>3</th>\n      <td>0.030303</td>\n      <td>0.189251</td>\n    </tr>\n    <tr>\n      <th>4</th>\n      <td>0.040404</td>\n      <td>0.251148</td>\n    </tr>\n  </tbody>\n</table>\n</div>"
     },
     "execution_count": 6,
     "metadata": {},
     "output_type": "execute_result"
    }
   ],
   "source": [
    "dict3 = {'x_test':x_test, 'y_test' :y_test}\n",
    "test_df = pd.DataFrame(dict3)\n",
    "test_df.head()"
   ],
   "metadata": {
    "collapsed": false,
    "pycharm": {
     "name": "#%%\n"
    }
   }
  },
  {
   "cell_type": "code",
   "execution_count": 7,
   "outputs": [],
   "source": [
    "class LinearRegression:\n",
    "    def __init__(self, df, target):\n",
    "        self.df = df\n",
    "        self.target = target\n",
    "\n",
    "    def find_coefficient(self):\n",
    "        t = np.array(self.df[self.target]).reshape(self.df.shape[0],1)\n",
    "        feature = np.array(self.df.loc[:, self.df.columns != self.target]).reshape(self.df.shape[0], self.df.shape[1]-1)\n",
    "        x = np.concatenate((np.ones((self.df.shape[0], 1)), feature), axis= 1)\n",
    "        w = np.array(inv(x.T.dot(x)).dot(x.T).dot(t)).reshape(feature.shape[1]+1, 1)\n",
    "        return w\n",
    "\n",
    "    def add_predict_column(self):\n",
    "        newdf = self.df.copy()\n",
    "        feature = np.array(self.df.loc[:, self.df.columns != self.target]).reshape(self.df.shape[0], self.df.shape[1]-1)\n",
    "        w = self.find_coefficient()\n",
    "        newdf['predict'] = feature.dot(w[1:,]) + w[0]\n",
    "        return newdf\n",
    "\n",
    "    def mse(self):\n",
    "        newdf = self.add_predict_column()\n",
    "        return np.mean((newdf['predict'] - newdf[self.target]) ** 2)\n",
    "\n",
    "    def predict_value(self, list1):\n",
    "        array = np.array(list1).reshape(1,len(list1))\n",
    "        w = self.find_coefficient()\n",
    "        return array.dot(w[1:,]) + w[0]\n",
    "\n",
    "    def print_model(self):\n",
    "        feature = (self.df.loc[:, self.df.columns != self.target])\n",
    "        w = self.find_coefficient()\n",
    "        print('y =', end=' ')\n",
    "        for i in range(1, len(w)):\n",
    "            print(round(float(w[i][0]),2), feature.columns[i-1], '+', end=' ')\n",
    "        print(round(float(w[0][0]),2))"
   ],
   "metadata": {
    "collapsed": false,
    "pycharm": {
     "name": "#%%\n"
    }
   }
  },
  {
   "cell_type": "code",
   "execution_count": 8,
   "outputs": [
    {
     "name": "stdout",
     "output_type": "stream",
     "text": [
      "[[ 0.78301942]\n",
      " [-1.63788059]]\n",
      "y = -1.64 x_train + 0.78\n"
     ]
    },
    {
     "data": {
      "text/plain": "0.2307766166378835"
     },
     "execution_count": 8,
     "metadata": {},
     "output_type": "execute_result"
    }
   ],
   "source": [
    "# bac 1\n",
    "model1 = LinearRegression(train_df, 'y_train')\n",
    "print(model1.find_coefficient())\n",
    "model1.print_model()\n",
    "model1.mse()"
   ],
   "metadata": {
    "collapsed": false,
    "pycharm": {
     "name": "#%%\n"
    }
   }
  },
  {
   "cell_type": "code",
   "execution_count": 9,
   "outputs": [
    {
     "data": {
      "text/plain": "[<matplotlib.lines.Line2D at 0x1dec052bc70>]"
     },
     "execution_count": 9,
     "metadata": {},
     "output_type": "execute_result"
    },
    {
     "data": {
      "text/plain": "<Figure size 432x288 with 1 Axes>",
      "image/png": "[encoded data removed]"
     },
     "metadata": {
      "needs_background": "light"
     },
     "output_type": "display_data"
    }
   ],
   "source": [
    "model1_predict = model1.add_predict_column()\n",
    "plt.scatter(x_train,y_train, facecolor=\"none\", edgecolor=\"b\", s=50, label=\"val data\")\n",
    "plt.scatter(x_val, y_val, facecolor=\"none\", edgecolor=\"r\", s=50, label=\"val data\")\n",
    "plt.plot(x_train, model1_predict.predict,'g')"
   ],
   "metadata": {
    "collapsed": false,
    "pycharm": {
     "name": "#%%\n"
    }
   }
  },
  {
   "cell_type": "code",
   "execution_count": 10,
   "outputs": [
    {
     "name": "stdout",
     "output_type": "stream",
     "text": [
      "MSE Training: 0.2307766166378836\n",
      "MSE Validation: 0.1813287732259332\n"
     ]
    }
   ],
   "source": [
    "print('MSE Training:',mse(y_train, model1_predict.predict))\n",
    "print('MSE Validation:',mse(y_val, model1_predict.predict))"
   ],
   "metadata": {
    "collapsed": false,
    "pycharm": {
     "name": "#%%\n"
    }
   }
  },
  {
   "cell_type": "code",
   "execution_count": 12,
   "outputs": [],
   "source": [
    "# bac 3\n",
    "train_df3 = train_df.copy()\n",
    "train_df3['x^2'] = x_train ** 2\n",
    "train_df3['x^3'] = x_train ** 3"
   ],
   "metadata": {
    "collapsed": false,
    "pycharm": {
     "name": "#%%\n"
    }
   }
  },
  {
   "cell_type": "code",
   "execution_count": 13,
   "outputs": [
    {
     "data": {
      "text/plain": "    x_train   y_train       x^2       x^3\n0  0.000000  0.117859  0.000000  0.000000\n1  0.111111  0.345044  0.012346  0.001372\n2  0.222222  1.342984  0.049383  0.010974\n3  0.333333  0.787862  0.111111  0.037037\n4  0.444444  0.161873  0.197531  0.087791",
      "text/html": "<div>\n<style scoped>\n    .dataframe tbody tr th:only-of-type {\n        vertical-align: middle;\n    }\n\n    .dataframe tbody tr th {\n        vertical-align: top;\n    }\n\n    .dataframe thead th {\n        text-align: right;\n    }\n</style>\n<table border=\"1\" class=\"dataframe\">\n  <thead>\n    <tr style=\"text-align: right;\">\n      <th></th>\n      <th>x_train</th>\n      <th>y_train</th>\n      <th>x^2</th>\n      <th>x^3</th>\n    </tr>\n  </thead>\n  <tbody>\n    <tr>\n      <th>0</th>\n      <td>0.000000</td>\n      <td>0.117859</td>\n      <td>0.000000</td>\n      <td>0.000000</td>\n    </tr>\n    <tr>\n      <th>1</th>\n      <td>0.111111</td>\n      <td>0.345044</td>\n      <td>0.012346</td>\n      <td>0.001372</td>\n    </tr>\n    <tr>\n      <th>2</th>\n      <td>0.222222</td>\n      <td>1.342984</td>\n      <td>0.049383</td>\n      <td>0.010974</td>\n    </tr>\n    <tr>\n      <th>3</th>\n      <td>0.333333</td>\n      <td>0.787862</td>\n      <td>0.111111</td>\n      <td>0.037037</td>\n    </tr>\n    <tr>\n      <th>4</th>\n      <td>0.444444</td>\n      <td>0.161873</td>\n      <td>0.197531</td>\n      <td>0.087791</td>\n    </tr>\n  </tbody>\n</table>\n</div>"
     },
     "execution_count": 13,
     "metadata": {},
     "output_type": "execute_result"
    }
   ],
   "source": [
    "train_df3.head()"
   ],
   "metadata": {
    "collapsed": false,
    "pycharm": {
     "name": "#%%\n"
    }
   }
  },
  {
   "cell_type": "code",
   "execution_count": 14,
   "outputs": [
    {
     "name": "stdout",
     "output_type": "stream",
     "text": [
      "[[ 1.13336032e-02]\n",
      " [ 9.29216157e+00]\n",
      " [-2.67894422e+01]\n",
      " [ 1.70372865e+01]]\n",
      "y = 9.29 x_train + -26.79 x^2 + 17.04 x^3 + 0.01\n"
     ]
    }
   ],
   "source": [
    "model3 = LinearRegression(train_df3, 'y_train')\n",
    "print(model3.find_coefficient())\n",
    "model3.print_model()"
   ],
   "metadata": {
    "collapsed": false,
    "pycharm": {
     "name": "#%%\n"
    }
   }
  },
  {
   "cell_type": "code",
   "execution_count": 17,
   "outputs": [],
   "source": [
    "w3 = model3.find_coefficient()\n",
    "x3 = np.linspace(0,1,100)\n",
    "y3 = w3[1]*x3 + w3[2]*x3**2 + w3[3]*x3**3 + w3[0]"
   ],
   "metadata": {
    "collapsed": false,
    "pycharm": {
     "name": "#%%\n"
    }
   }
  },
  {
   "cell_type": "code",
   "execution_count": 23,
   "outputs": [
    {
     "data": {
      "text/plain": "[<matplotlib.lines.Line2D at 0x1dec1f6b2b0>]"
     },
     "execution_count": 23,
     "metadata": {},
     "output_type": "execute_result"
    },
    {
     "data": {
      "text/plain": "<Figure size 432x288 with 1 Axes>",
      "image/png": "[encoded data removed]"
     },
     "metadata": {
      "needs_background": "light"
     },
     "output_type": "display_data"
    }
   ],
   "source": [
    "model3_predict = model3.add_predict_column()\n",
    "plt.scatter(x_train,y_train, facecolor=\"none\", edgecolor=\"b\", s=50, label=\"val data\")\n",
    "plt.scatter(x_val, y_val, facecolor=\"none\", edgecolor=\"r\", s=50, label=\"val data\")\n",
    "plt.plot(x3, y3,'g')"
   ],
   "metadata": {
    "collapsed": false,
    "pycharm": {
     "name": "#%%\n"
    }
   }
  },
  {
   "cell_type": "code",
   "execution_count": 24,
   "outputs": [
    {
     "name": "stdout",
     "output_type": "stream",
     "text": [
      "MSE Training: 0.04982387306784307\n",
      "MSE Validation: 0.07772268092531057\n"
     ]
    }
   ],
   "source": [
    "print('MSE Training:',mse(y_train, model3_predict.predict))\n",
    "print('MSE Validation:',mse(y_val, model3_predict.predict))"
   ],
   "metadata": {
    "collapsed": false,
    "pycharm": {
     "name": "#%%\n"
    }
   }
  },
  {
   "cell_type": "code",
   "execution_count": 19,
   "outputs": [
    {
     "data": {
      "text/plain": "    x_train   y_train       x^2       x^3       x^4       x^5       x^6  \\\n0  0.000000  0.117859  0.000000  0.000000  0.000000  0.000000  0.000000   \n1  0.111111  0.345044  0.012346  0.001372  0.000152  0.000017  0.000002   \n2  0.222222  1.342984  0.049383  0.010974  0.002439  0.000542  0.000120   \n3  0.333333  0.787862  0.111111  0.037037  0.012346  0.004115  0.001372   \n4  0.444444  0.161873  0.197531  0.087791  0.039018  0.017342  0.007707   \n\n            x^7           x^8           x^9  \n0  0.000000e+00  0.000000e+00  0.000000e+00  \n1  2.090752e-07  2.323057e-08  2.581175e-09  \n2  2.676162e-05  5.947027e-06  1.321561e-06  \n3  4.572474e-04  1.524158e-04  5.080526e-05  \n4  3.425487e-03  1.522439e-03  6.766395e-04  ",
      "text/html": "<div>\n<style scoped>\n    .dataframe tbody tr th:only-of-type {\n        vertical-align: middle;\n    }\n\n    .dataframe tbody tr th {\n        vertical-align: top;\n    }\n\n    .dataframe thead th {\n        text-align: right;\n    }\n</style>\n<table border=\"1\" class=\"dataframe\">\n  <thead>\n    <tr style=\"text-align: right;\">\n      <th></th>\n      <th>x_train</th>\n      <th>y_train</th>\n      <th>x^2</th>\n      <th>x^3</th>\n      <th>x^4</th>\n      <th>x^5</th>\n      <th>x^6</th>\n      <th>x^7</th>\n      <th>x^8</th>\n      <th>x^9</th>\n    </tr>\n  </thead>\n  <tbody>\n    <tr>\n      <th>0</th>\n      <td>0.000000</td>\n      <td>0.117859</td>\n      <td>0.000000</td>\n      <td>0.000000</td>\n      <td>0.000000</td>\n      <td>0.000000</td>\n      <td>0.000000</td>\n      <td>0.000000e+00</td>\n      <td>0.000000e+00</td>\n      <td>0.000000e+00</td>\n    </tr>\n    <tr>\n      <th>1</th>\n      <td>0.111111</td>\n      <td>0.345044</td>\n      <td>0.012346</td>\n      <td>0.001372</td>\n      <td>0.000152</td>\n      <td>0.000017</td>\n      <td>0.000002</td>\n      <td>2.090752e-07</td>\n      <td>2.323057e-08</td>\n      <td>2.581175e-09</td>\n    </tr>\n    <tr>\n      <th>2</th>\n      <td>0.222222</td>\n      <td>1.342984</td>\n      <td>0.049383</td>\n      <td>0.010974</td>\n      <td>0.002439</td>\n      <td>0.000542</td>\n      <td>0.000120</td>\n      <td>2.676162e-05</td>\n      <td>5.947027e-06</td>\n      <td>1.321561e-06</td>\n    </tr>\n    <tr>\n      <th>3</th>\n      <td>0.333333</td>\n      <td>0.787862</td>\n      <td>0.111111</td>\n      <td>0.037037</td>\n      <td>0.012346</td>\n      <td>0.004115</td>\n      <td>0.001372</td>\n      <td>4.572474e-04</td>\n      <td>1.524158e-04</td>\n      <td>5.080526e-05</td>\n    </tr>\n    <tr>\n      <th>4</th>\n      <td>0.444444</td>\n      <td>0.161873</td>\n      <td>0.197531</td>\n      <td>0.087791</td>\n      <td>0.039018</td>\n      <td>0.017342</td>\n      <td>0.007707</td>\n      <td>3.425487e-03</td>\n      <td>1.522439e-03</td>\n      <td>6.766395e-04</td>\n    </tr>\n  </tbody>\n</table>\n</div>"
     },
     "execution_count": 19,
     "metadata": {},
     "output_type": "execute_result"
    }
   ],
   "source": [
    "# bac 9\n",
    "train_df9 = train_df.copy()\n",
    "train_df9['x^2'] = x_train ** 2\n",
    "train_df9['x^3'] = x_train ** 3\n",
    "train_df9['x^4'] = x_train ** 4\n",
    "train_df9['x^5'] = x_train ** 5\n",
    "train_df9['x^6'] = x_train ** 6\n",
    "train_df9['x^7'] = x_train ** 7\n",
    "train_df9['x^8'] = x_train ** 8\n",
    "train_df9['x^9'] = x_train ** 9\n",
    "\n",
    "train_df9.head()"
   ],
   "metadata": {
    "collapsed": false,
    "pycharm": {
     "name": "#%%\n"
    }
   }
  },
  {
   "cell_type": "code",
   "execution_count": 20,
   "outputs": [
    {
     "name": "stdout",
     "output_type": "stream",
     "text": [
      "[[ 1.18011740e-01]\n",
      " [-3.22317897e+01]\n",
      " [ 5.52536975e+02]\n",
      " [-2.72815899e+03]\n",
      " [ 4.76081084e+03]\n",
      " [ 2.03664728e+03]\n",
      " [-1.93682659e+04]\n",
      " [ 2.83908939e+04]\n",
      " [-1.78606198e+04]\n",
      " [ 4.24770842e+03]]\n",
      "y = -32.23 x_train + 552.54 x^2 + -2728.16 x^3 + 4760.81 x^4 + 2036.65 x^5 + -19368.27 x^6 + 28390.89 x^7 + -17860.62 x^8 + 4247.71 x^9 + 0.12\n"
     ]
    }
   ],
   "source": [
    "model9 = LinearRegression(train_df9,'y_train')\n",
    "print(model9.find_coefficient())\n",
    "model9.print_model()"
   ],
   "metadata": {
    "collapsed": false,
    "pycharm": {
     "name": "#%%\n"
    }
   }
  },
  {
   "cell_type": "code",
   "execution_count": 26,
   "outputs": [],
   "source": [
    "w9= model9.find_coefficient()\n",
    "x9 = np.linspace(0,1,100)\n",
    "y9 = w9[1]*x9 + w9[2]*x9**2 + w9[3]*x9**3 + w9[4]*x9**4 + w9[5]*x9**5 + w9[6]*x9**6  + w9[7]*x9**7 + w9[8]*x9**8 + w9[9]*x9**9 + w9[0]"
   ],
   "metadata": {
    "collapsed": false,
    "pycharm": {
     "name": "#%%\n"
    }
   }
  },
  {
   "cell_type": "code",
   "execution_count": 27,
   "outputs": [
    {
     "data": {
      "text/plain": "[<matplotlib.lines.Line2D at 0x1dec1fc0d00>]"
     },
     "execution_count": 27,
     "metadata": {},
     "output_type": "execute_result"
    },
    {
     "data": {
      "text/plain": "<Figure size 432x288 with 1 Axes>",
      "image/png": "[encoded data removed]"
     },
     "metadata": {
      "needs_background": "light"
     },
     "output_type": "display_data"
    }
   ],
   "source": [
    "model9_predict = model9.add_predict_column()\n",
    "plt.scatter(x_train,y_train, facecolor=\"none\", edgecolor=\"b\", s=50, label=\"val data\")\n",
    "plt.scatter(x_val, y_val, facecolor=\"none\", edgecolor=\"r\", s=50, label=\"val data\")\n",
    "plt.plot(x9, y9,'g')"
   ],
   "metadata": {
    "collapsed": false,
    "pycharm": {
     "name": "#%%\n"
    }
   }
  },
  {
   "cell_type": "code",
   "execution_count": 28,
   "outputs": [
    {
     "name": "stdout",
     "output_type": "stream",
     "text": [
      "MSE Training: 3.0337458738797995e-08\n",
      "MSE Validation: 0.0785083477666504\n"
     ]
    }
   ],
   "source": [
    "print('MSE Training:',mse(y_train, model9_predict.predict))\n",
    "print('MSE Validation:',mse(y_val, model9_predict.predict))"
   ],
   "metadata": {
    "collapsed": false,
    "pycharm": {
     "name": "#%%\n"
    }
   }
  },
  {
   "cell_type": "code",
   "execution_count": null,
   "outputs": [],
   "source": [],
   "metadata": {
    "collapsed": false,
    "pycharm": {
     "name": "#%%\n"
    }
   }
  }
 ],
 "metadata": {
  "kernelspec": {
   "display_name": "Python 3",
   "language": "python",
   "name": "python3"
  },
  "language_info": {
   "codemirror_mode": {
    "name": "ipython",
    "version": 2
   },
   "file_extension": ".py",
   "mimetype": "text/x-python",
   "name": "python",
   "nbconvert_exporter": "python",
   "pygments_lexer": "ipython2",
   "version": "2.7.6"
  }
 },
 "nbformat": 4,
 "nbformat_minor": 0
}