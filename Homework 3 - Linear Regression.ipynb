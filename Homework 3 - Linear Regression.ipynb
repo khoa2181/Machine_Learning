{
 "cells": [
  {
   "cell_type": "code",
   "execution_count": 136,
   "metadata": {
    "collapsed": true
   },
   "outputs": [],
   "source": [
    "import numpy as np\n",
    "from numpy.linalg import inv\n",
    "import pandas as pd\n",
    "import matplotlib.pyplot as plt"
   ]
  },
  {
   "cell_type": "code",
   "execution_count": 137,
   "outputs": [],
   "source": [
    "path = 'C:/Users/khoat/OneDrive - National Economics University/Desktop/1. Study/3.1. Machine Learning/data/'"
   ],
   "metadata": {
    "collapsed": false,
    "pycharm": {
     "name": "#%%\n"
    }
   }
  },
  {
   "cell_type": "code",
   "execution_count": 138,
   "outputs": [],
   "source": [
    "house_dataframe = pd.read_csv(path + 'data_linear.csv')\n",
    "house_dataframe.rename(columns = {'Diện tích':'area', 'Giá':'price'}, inplace = True)"
   ],
   "metadata": {
    "collapsed": false,
    "pycharm": {
     "name": "#%%\n"
    }
   }
  },
  {
   "cell_type": "code",
   "execution_count": 139,
   "outputs": [],
   "source": [
    "column_names = ['CRIM', 'ZN', 'INDUS', 'CHAS', 'NOX', 'RM', 'AGE', 'DIS', 'RAD', 'TAX', 'PTRATIO', 'B', 'LSTAT', 'MEDV']\n",
    "boston_dataframe = pd.read_csv(path + 'housing.csv', header=None, delimiter=r\"\\s+\", names=column_names)"
   ],
   "metadata": {
    "collapsed": false,
    "pycharm": {
     "name": "#%%\n"
    }
   }
  },
  {
   "cell_type": "markdown",
   "source": [
    "CRIM - per capita crime rate by town\n",
    "ZN - proportion of residential land zoned for lots over 25,000 sq.ft.\n",
    "INDUS - proportion of non-retail business acres per town.\n",
    "CHAS - Charles River dummy variable (1 if tract bounds river; 0 otherwise)\n",
    "NOX - nitric oxides concentration (parts per 10 million)\n",
    "RM - average number of rooms per dwelling\n",
    "AGE - proportion of owner-occupied units built prior to 1940\n",
    "DIS - weighted distances to five Boston employment centres\n",
    "RAD - index of accessibility to radial highways\n",
    "TAX - full-value property-tax rate per $10,000\n",
    "PTRATIO - pupil-teacher ratio by town\n",
    "B - 1000(Bk - 0.63)^2 where Bk is the proportion of blacks by town\n",
    "LSTAT - % lower status of the population\n",
    "MEDV - Median value of owner-occupied homes in $1000's"
   ],
   "metadata": {
    "collapsed": false
   }
  },
  {
   "cell_type": "code",
   "execution_count": 140,
   "outputs": [],
   "source": [
    "class LinearRegression:\n",
    "    def __init__(self, df, target):\n",
    "        self.df = df\n",
    "        self.target = target\n",
    "\n",
    "    def find_coefficient(self):\n",
    "        t = np.array(self.df[self.target]).reshape(self.df.shape[0],1)\n",
    "        feature = np.array(self.df.loc[:, self.df.columns != self.target]).reshape(self.df.shape[0], self.df.shape[1]-1)\n",
    "        x = np.concatenate((np.ones((self.df.shape[0], 1)), feature), axis= 1)\n",
    "        w = np.array(inv(x.T.dot(x)).dot(x.T).dot(t)).reshape(feature.shape[1]+1, 1)\n",
    "        return w\n",
    "\n",
    "    def predict_value(self, list1):\n",
    "        array = np.array(list1).reshape(1,len(list1))\n",
    "        w1 = self.find_coefficient()\n",
    "        return array.dot(w1[1:,]) + w[0]\n",
    "\n",
    "    def add_predict_column(self):\n",
    "        newdf = self.df\n",
    "        t = np.array(self.df[self.target]).reshape(self.df.shape[0],1)\n",
    "        feature = np.array(self.df.loc[:, self.df.columns != self.target]).reshape(self.df.shape[0], self.df.shape[1]-1)\n",
    "        x = np.concatenate((np.ones((self.df.shape[0], 1)), feature), axis= 1)\n",
    "        w = np.array(inv(x.T.dot(x)).dot(x.T).dot(t)).reshape(feature.shape[1]+1, 1)\n",
    "        newdf['predict'] = feature.dot(w[1:,]) + w[0]\n",
    "        return newdf"
   ],
   "metadata": {
    "collapsed": false,
    "pycharm": {
     "name": "#%%\n"
    }
   }
  },
  {
   "cell_type": "code",
   "execution_count": 141,
   "outputs": [
    {
     "data": {
      "text/plain": "array([[-7.06426865],\n       [15.2110908 ]])"
     },
     "execution_count": 141,
     "metadata": {},
     "output_type": "execute_result"
    }
   ],
   "source": [
    "house = LinearRegression(house_dataframe, 'price')\n",
    "house.find_coefficient()"
   ],
   "metadata": {
    "collapsed": false,
    "pycharm": {
     "name": "#%%\n"
    }
   }
  },
  {
   "cell_type": "code",
   "execution_count": 142,
   "outputs": [
    {
     "name": "stdout",
     "output_type": "stream",
     "text": [
      "[[797.01402837]]\n",
      "[[1557.56856835]]\n",
      "[[2318.12310834]]\n"
     ]
    }
   ],
   "source": [
    "print(house.predict_value([50]))\n",
    "print(house.predict_value([100]))\n",
    "print(house.predict_value([150]))"
   ],
   "metadata": {
    "collapsed": false,
    "pycharm": {
     "name": "#%%\n"
    }
   }
  },
  {
   "cell_type": "code",
   "execution_count": 143,
   "outputs": [
    {
     "data": {
      "text/plain": "      area    price     predict\n0  30.0000  448.524  449.268455\n1  32.4138  509.248  485.984986\n2  34.8276  535.104  522.701517\n3  37.2414  551.432  559.418048\n4  39.6552  623.418  596.134579",
      "text/html": "<div>\n<style scoped>\n    .dataframe tbody tr th:only-of-type {\n        vertical-align: middle;\n    }\n\n    .dataframe tbody tr th {\n        vertical-align: top;\n    }\n\n    .dataframe thead th {\n        text-align: right;\n    }\n</style>\n<table border=\"1\" class=\"dataframe\">\n  <thead>\n    <tr style=\"text-align: right;\">\n      <th></th>\n      <th>area</th>\n      <th>price</th>\n      <th>predict</th>\n    </tr>\n  </thead>\n  <tbody>\n    <tr>\n      <th>0</th>\n      <td>30.0000</td>\n      <td>448.524</td>\n      <td>449.268455</td>\n    </tr>\n    <tr>\n      <th>1</th>\n      <td>32.4138</td>\n      <td>509.248</td>\n      <td>485.984986</td>\n    </tr>\n    <tr>\n      <th>2</th>\n      <td>34.8276</td>\n      <td>535.104</td>\n      <td>522.701517</td>\n    </tr>\n    <tr>\n      <th>3</th>\n      <td>37.2414</td>\n      <td>551.432</td>\n      <td>559.418048</td>\n    </tr>\n    <tr>\n      <th>4</th>\n      <td>39.6552</td>\n      <td>623.418</td>\n      <td>596.134579</td>\n    </tr>\n  </tbody>\n</table>\n</div>"
     },
     "execution_count": 143,
     "metadata": {},
     "output_type": "execute_result"
    }
   ],
   "source": [
    "house_predict = house.add_predict_column()\n",
    "house_predict.head()"
   ],
   "metadata": {
    "collapsed": false,
    "pycharm": {
     "name": "#%%\n"
    }
   }
  },
  {
   "cell_type": "code",
   "execution_count": 144,
   "outputs": [
    {
     "data": {
      "text/plain": "[<matplotlib.lines.Line2D at 0x19155422880>]"
     },
     "execution_count": 144,
     "metadata": {},
     "output_type": "execute_result"
    },
    {
     "data": {
      "text/plain": "<Figure size 432x288 with 1 Axes>",
      "image/png": "[encoded data removed]"
     },
     "metadata": {
      "needs_background": "light"
     },
     "output_type": "display_data"
    }
   ],
   "source": [
    "plt.plot(house_predict.price)\n",
    "plt.plot(house_predict.predict)"
   ],
   "metadata": {
    "collapsed": false,
    "pycharm": {
     "name": "#%%\n"
    }
   }
  },
  {
   "cell_type": "code",
   "execution_count": 145,
   "outputs": [
    {
     "data": {
      "text/plain": "array([[ 3.64594884e+01],\n       [-1.08011358e-01],\n       [ 4.64204584e-02],\n       [ 2.05586264e-02],\n       [ 2.68673382e+00],\n       [-1.77666112e+01],\n       [ 3.80986521e+00],\n       [ 6.92224640e-04],\n       [-1.47556685e+00],\n       [ 3.06049479e-01],\n       [-1.23345939e-02],\n       [-9.52747232e-01],\n       [ 9.31168327e-03],\n       [-5.24758378e-01]])"
     },
     "execution_count": 145,
     "metadata": {},
     "output_type": "execute_result"
    }
   ],
   "source": [
    "boston = LinearRegression(boston_dataframe, 'MEDV')\n",
    "boston.find_coefficient()"
   ],
   "metadata": {
    "collapsed": false,
    "pycharm": {
     "name": "#%%\n"
    }
   }
  },
  {
   "cell_type": "code",
   "execution_count": 146,
   "outputs": [
    {
     "data": {
      "text/plain": "     index      CRIM    ZN  INDUS  CHAS     NOX     RM    AGE     DIS  RAD  \\\n0      414  45.74610   0.0  18.10     0  0.6930  4.519  100.0  1.6582   24   \n1      374  18.49820   0.0  18.10     0  0.6680  4.138  100.0  1.1370   24   \n2      412  18.81100   0.0  18.10     0  0.5970  4.628  100.0  1.5539   24   \n3      384  20.08490   0.0  18.10     0  0.7000  4.368   91.2  1.4395   24   \n4      490   0.20746   0.0  27.74     0  0.6090  5.093   98.0  1.8226    4   \n..     ...       ...   ...    ...   ...     ...    ...    ...     ...  ...   \n501    163   1.51902   0.0  19.58     1  0.6050  8.375   93.9  2.1620    5   \n502    203   0.03510  95.0   2.68     0  0.4161  7.853   33.2  5.1180    4   \n503    204   0.02009  95.0   2.68     0  0.4161  8.034   31.9  5.1180    4   \n504    257   0.61154  20.0   3.97     0  0.6470  8.704   86.9  1.8010    5   \n505    283   0.01501  90.0   1.21     1  0.4010  7.923   24.8  5.8850    1   \n\n       TAX  PTRATIO       B  LSTAT  MEDV    predict  \n0    666.0     20.2   88.27  36.98   7.0  -4.281311  \n1    666.0     20.2  396.90  37.97  13.8   0.777798  \n2    666.0     20.2   28.79  34.37  17.9   1.718518  \n3    666.0     20.2  285.83  30.63   8.8   3.279181  \n4    711.0     20.1  318.43  29.68   8.1   3.663997  \n..     ...      ...     ...    ...   ...        ...  \n501  403.0     14.7  388.45   3.32  50.0  41.847282  \n502  224.0     14.7  392.78   3.81  48.5  42.031931  \n503  224.0     14.7  390.55   2.88  50.0  43.189498  \n504  264.0     13.0  389.70   5.12  50.0  43.302390  \n505  198.0     13.6  395.52   3.16  50.0  44.673083  \n\n[506 rows x 16 columns]",
      "text/html": "<div>\n<style scoped>\n    .dataframe tbody tr th:only-of-type {\n        vertical-align: middle;\n    }\n\n    .dataframe tbody tr th {\n        vertical-align: top;\n    }\n\n    .dataframe thead th {\n        text-align: right;\n    }\n</style>\n<table border=\"1\" class=\"dataframe\">\n  <thead>\n    <tr style=\"text-align: right;\">\n      <th></th>\n      <th>index</th>\n      <th>CRIM</th>\n      <th>ZN</th>\n      <th>INDUS</th>\n      <th>CHAS</th>\n      <th>NOX</th>\n      <th>RM</th>\n      <th>AGE</th>\n      <th>DIS</th>\n      <th>RAD</th>\n      <th>TAX</th>\n      <th>PTRATIO</th>\n      <th>B</th>\n      <th>LSTAT</th>\n      <th>MEDV</th>\n      <th>predict</th>\n    </tr>\n  </thead>\n  <tbody>\n    <tr>\n      <th>0</th>\n      <td>414</td>\n      <td>45.74610</td>\n      <td>0.0</td>\n      <td>18.10</td>\n      <td>0</td>\n      <td>0.6930</td>\n      <td>4.519</td>\n      <td>100.0</td>\n      <td>1.6582</td>\n      <td>24</td>\n      <td>666.0</td>\n      <td>20.2</td>\n      <td>88.27</td>\n      <td>36.98</td>\n      <td>7.0</td>\n      <td>-4.281311</td>\n    </tr>\n    <tr>\n      <th>1</th>\n      <td>374</td>\n      <td>18.49820</td>\n      <td>0.0</td>\n      <td>18.10</td>\n      <td>0</td>\n      <td>0.6680</td>\n      <td>4.138</td>\n      <td>100.0</td>\n      <td>1.1370</td>\n      <td>24</td>\n      <td>666.0</td>\n      <td>20.2</td>\n      <td>396.90</td>\n      <td>37.97</td>\n      <td>13.8</td>\n      <td>0.777798</td>\n    </tr>\n    <tr>\n      <th>2</th>\n      <td>412</td>\n      <td>18.81100</td>\n      <td>0.0</td>\n      <td>18.10</td>\n      <td>0</td>\n      <td>0.5970</td>\n      <td>4.628</td>\n      <td>100.0</td>\n      <td>1.5539</td>\n      <td>24</td>\n      <td>666.0</td>\n      <td>20.2</td>\n      <td>28.79</td>\n      <td>34.37</td>\n      <td>17.9</td>\n      <td>1.718518</td>\n    </tr>\n    <tr>\n      <th>3</th>\n      <td>384</td>\n      <td>20.08490</td>\n      <td>0.0</td>\n      <td>18.10</td>\n      <td>0</td>\n      <td>0.7000</td>\n      <td>4.368</td>\n      <td>91.2</td>\n      <td>1.4395</td>\n      <td>24</td>\n      <td>666.0</td>\n      <td>20.2</td>\n      <td>285.83</td>\n      <td>30.63</td>\n      <td>8.8</td>\n      <td>3.279181</td>\n    </tr>\n    <tr>\n      <th>4</th>\n      <td>490</td>\n      <td>0.20746</td>\n      <td>0.0</td>\n      <td>27.74</td>\n      <td>0</td>\n      <td>0.6090</td>\n      <td>5.093</td>\n      <td>98.0</td>\n      <td>1.8226</td>\n      <td>4</td>\n      <td>711.0</td>\n      <td>20.1</td>\n      <td>318.43</td>\n      <td>29.68</td>\n      <td>8.1</td>\n      <td>3.663997</td>\n    </tr>\n    <tr>\n      <th>...</th>\n      <td>...</td>\n      <td>...</td>\n      <td>...</td>\n      <td>...</td>\n      <td>...</td>\n      <td>...</td>\n      <td>...</td>\n      <td>...</td>\n      <td>...</td>\n      <td>...</td>\n      <td>...</td>\n      <td>...</td>\n      <td>...</td>\n      <td>...</td>\n      <td>...</td>\n      <td>...</td>\n    </tr>\n    <tr>\n      <th>501</th>\n      <td>163</td>\n      <td>1.51902</td>\n      <td>0.0</td>\n      <td>19.58</td>\n      <td>1</td>\n      <td>0.6050</td>\n      <td>8.375</td>\n      <td>93.9</td>\n      <td>2.1620</td>\n      <td>5</td>\n      <td>403.0</td>\n      <td>14.7</td>\n      <td>388.45</td>\n      <td>3.32</td>\n      <td>50.0</td>\n      <td>41.847282</td>\n    </tr>\n    <tr>\n      <th>502</th>\n      <td>203</td>\n      <td>0.03510</td>\n      <td>95.0</td>\n      <td>2.68</td>\n      <td>0</td>\n      <td>0.4161</td>\n      <td>7.853</td>\n      <td>33.2</td>\n      <td>5.1180</td>\n      <td>4</td>\n      <td>224.0</td>\n      <td>14.7</td>\n      <td>392.78</td>\n      <td>3.81</td>\n      <td>48.5</td>\n      <td>42.031931</td>\n    </tr>\n    <tr>\n      <th>503</th>\n      <td>204</td>\n      <td>0.02009</td>\n      <td>95.0</td>\n      <td>2.68</td>\n      <td>0</td>\n      <td>0.4161</td>\n      <td>8.034</td>\n      <td>31.9</td>\n      <td>5.1180</td>\n      <td>4</td>\n      <td>224.0</td>\n      <td>14.7</td>\n      <td>390.55</td>\n      <td>2.88</td>\n      <td>50.0</td>\n      <td>43.189498</td>\n    </tr>\n    <tr>\n      <th>504</th>\n      <td>257</td>\n      <td>0.61154</td>\n      <td>20.0</td>\n      <td>3.97</td>\n      <td>0</td>\n      <td>0.6470</td>\n      <td>8.704</td>\n      <td>86.9</td>\n      <td>1.8010</td>\n      <td>5</td>\n      <td>264.0</td>\n      <td>13.0</td>\n      <td>389.70</td>\n      <td>5.12</td>\n      <td>50.0</td>\n      <td>43.302390</td>\n    </tr>\n    <tr>\n      <th>505</th>\n      <td>283</td>\n      <td>0.01501</td>\n      <td>90.0</td>\n      <td>1.21</td>\n      <td>1</td>\n      <td>0.4010</td>\n      <td>7.923</td>\n      <td>24.8</td>\n      <td>5.8850</td>\n      <td>1</td>\n      <td>198.0</td>\n      <td>13.6</td>\n      <td>395.52</td>\n      <td>3.16</td>\n      <td>50.0</td>\n      <td>44.673083</td>\n    </tr>\n  </tbody>\n</table>\n<p>506 rows × 16 columns</p>\n</div>"
     },
     "execution_count": 146,
     "metadata": {},
     "output_type": "execute_result"
    }
   ],
   "source": [
    "boston_predict = boston.add_predict_column()\n",
    "boston_predict.sort_values(by= 'predict', ascending=True, inplace= True)\n",
    "boston_predict.reset_index(inplace= True)\n",
    "boston_predict"
   ],
   "metadata": {
    "collapsed": false,
    "pycharm": {
     "name": "#%%\n"
    }
   }
  },
  {
   "cell_type": "code",
   "execution_count": 147,
   "outputs": [
    {
     "data": {
      "text/plain": "[<matplotlib.lines.Line2D at 0x19154bc52e0>]"
     },
     "execution_count": 147,
     "metadata": {},
     "output_type": "execute_result"
    },
    {
     "data": {
      "text/plain": "<Figure size 432x288 with 1 Axes>",
      "image/png": "[encoded data removed]"
     },
     "metadata": {
      "needs_background": "light"
     },
     "output_type": "display_data"
    }
   ],
   "source": [
    "plt.plot(boston_predict.MEDV)\n",
    "plt.plot(boston_predict.predict)"
   ],
   "metadata": {
    "collapsed": false,
    "pycharm": {
     "name": "#%%\n"
    }
   }
  },
  {
   "cell_type": "code",
   "execution_count": null,
   "outputs": [],
   "source": [],
   "metadata": {
    "collapsed": false,
    "pycharm": {
     "name": "#%%\n"
    }
   }
  }
 ],
 "metadata": {
  "kernelspec": {
   "display_name": "Python 3",
   "language": "python",
   "name": "python3"
  },
  "language_info": {
   "codemirror_mode": {
    "name": "ipython",
    "version": 2
   },
   "file_extension": ".py",
   "mimetype": "text/x-python",
   "name": "python",
   "nbconvert_exporter": "python",
   "pygments_lexer": "ipython2",
   "version": "2.7.6"
  }
 },
 "nbformat": 4,
 "nbformat_minor": 0
}