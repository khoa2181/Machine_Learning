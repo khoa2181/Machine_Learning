{
 "cells": [
  {
   "cell_type": "code",
   "execution_count": 1,
   "metadata": {
    "collapsed": true
   },
   "outputs": [],
   "source": [
    "import numpy as np\n",
    "from numpy.linalg import inv\n",
    "import pandas as pd\n",
    "import matplotlib.pyplot as plt"
   ]
  },
  {
   "cell_type": "code",
   "execution_count": 2,
   "outputs": [],
   "source": [
    "path = 'C:/Users/khoat/OneDrive - National Economics University/Desktop/1. Study/3.1. Machine Learning/data/'"
   ],
   "metadata": {
    "collapsed": false,
    "pycharm": {
     "name": "#%%\n"
    }
   }
  },
  {
   "cell_type": "code",
   "execution_count": 3,
   "outputs": [],
   "source": [
    "house_dataframe = pd.read_csv(path + 'data_linear.csv')\n",
    "house_dataframe.rename(columns = {'Diện tích':'area', 'Giá':'price'}, inplace = True)"
   ],
   "metadata": {
    "collapsed": false,
    "pycharm": {
     "name": "#%%\n"
    }
   }
  },
  {
   "cell_type": "code",
   "execution_count": 4,
   "outputs": [],
   "source": [
    "column_names = ['CRIM', 'ZN', 'INDUS', 'CHAS', 'NOX', 'RM', 'AGE', 'DIS', 'RAD', 'TAX', 'PTRATIO', 'B', 'LSTAT', 'MEDV']\n",
    "boston_dataframe = pd.read_csv(path + 'housing.csv', header=None, delimiter=r\"\\s+\", names=column_names)"
   ],
   "metadata": {
    "collapsed": false,
    "pycharm": {
     "name": "#%%\n"
    }
   }
  },
  {
   "cell_type": "markdown",
   "source": [
    "CRIM - per capita crime rate by town\n",
    "\n",
    "ZN - proportion of residential land zoned for lots over 25,000 sq.ft.\n",
    "\n",
    "INDUS - proportion of non-retail business acres per town.\n",
    "\n",
    "CHAS - Charles River dummy variable (1 if tract bounds river; 0 otherwise)\n",
    "\n",
    "NOX - nitric oxides concentration (parts per 10 million)\n",
    "\n",
    "RM - average number of rooms per dwelling\n",
    "\n",
    "AGE - proportion of owner-occupied units built prior to 1940\n",
    "\n",
    "DIS - weighted distances to five Boston employment centres\n",
    "\n",
    "RAD - index of accessibility to radial highways\n",
    "\n",
    "TAX - full-value property-tax rate per $10,000\n",
    "\n",
    "PTRATIO - pupil-teacher ratio by town\n",
    "\n",
    "B - 1000(Bk - 0.63)^2 where Bk is the proportion of blacks by town\n",
    "\n",
    "LSTAT - % lower status of the population\n",
    "\n",
    "MEDV - Median value of owner-occupied homes in $1000's"
   ],
   "metadata": {
    "collapsed": false
   }
  },
  {
   "cell_type": "code",
   "execution_count": 5,
   "outputs": [],
   "source": [
    "class LinearRegression:\n",
    "    def __init__(self, df, target):\n",
    "        self.df = df\n",
    "        self.target = target\n",
    "\n",
    "    def find_coefficient(self):\n",
    "        t = np.array(self.df[self.target]).reshape(self.df.shape[0],1)\n",
    "        feature = np.array(self.df.loc[:, self.df.columns != self.target]).reshape(self.df.shape[0], self.df.shape[1]-1)\n",
    "        x = np.concatenate((np.ones((self.df.shape[0], 1)), feature), axis= 1)\n",
    "        w = np.array(inv(x.T.dot(x)).dot(x.T).dot(t)).reshape(feature.shape[1]+1, 1)\n",
    "        return w\n",
    "\n",
    "    def predict_value(self, list1):\n",
    "        array = np.array(list1).reshape(1,len(list1))\n",
    "        w = self.find_coefficient()\n",
    "        return array.dot(w[1:,]) + w[0]\n",
    "\n",
    "    def add_predict_column(self):\n",
    "        newdf = self.df.copy()\n",
    "        t = np.array(self.df[self.target]).reshape(self.df.shape[0],1)\n",
    "        feature = np.array(self.df.loc[:, self.df.columns != self.target]).reshape(self.df.shape[0], self.df.shape[1]-1)\n",
    "        x = np.concatenate((np.ones((self.df.shape[0], 1)), feature), axis= 1)\n",
    "        w = np.array(inv(x.T.dot(x)).dot(x.T).dot(t)).reshape(feature.shape[1]+1, 1)\n",
    "        newdf['predict'] = feature.dot(w[1:,]) + w[0]\n",
    "        return newdf\n",
    "\n",
    "    def print_model(self):\n",
    "        w = self.find_coefficient()\n",
    "        print('y =', end=' ')\n",
    "        for i in range(1, len(w)):\n",
    "            print(str(w[i][0]), self.df.columns[i-1], '+', end=' ')\n",
    "        print(str(w[0][0]))"
   ],
   "metadata": {
    "collapsed": false,
    "pycharm": {
     "name": "#%%\n"
    }
   }
  },
  {
   "cell_type": "code",
   "execution_count": 6,
   "outputs": [
    {
     "name": "stdout",
     "output_type": "stream",
     "text": [
      "y = 15.211090799670421 area + -7.064268645243487\n"
     ]
    }
   ],
   "source": [
    "house = LinearRegression(house_dataframe, 'price')\n",
    "house.print_model()"
   ],
   "metadata": {
    "collapsed": false,
    "pycharm": {
     "name": "#%%\n"
    }
   }
  },
  {
   "cell_type": "code",
   "execution_count": 7,
   "outputs": [
    {
     "name": "stdout",
     "output_type": "stream",
     "text": [
      "[[753.49027134]]\n",
      "[[1514.04481132]]\n",
      "[[2274.59935131]]\n"
     ]
    }
   ],
   "source": [
    "print(house.predict_value([50]))\n",
    "print(house.predict_value([100]))\n",
    "print(house.predict_value([150]))"
   ],
   "metadata": {
    "collapsed": false,
    "pycharm": {
     "name": "#%%\n"
    }
   }
  },
  {
   "cell_type": "code",
   "execution_count": 8,
   "outputs": [
    {
     "data": {
      "text/plain": "      area    price     predict\n0  30.0000  448.524  449.268455\n1  32.4138  509.248  485.984986\n2  34.8276  535.104  522.701517\n3  37.2414  551.432  559.418048\n4  39.6552  623.418  596.134579",
      "text/html": "<div>\n<style scoped>\n    .dataframe tbody tr th:only-of-type {\n        vertical-align: middle;\n    }\n\n    .dataframe tbody tr th {\n        vertical-align: top;\n    }\n\n    .dataframe thead th {\n        text-align: right;\n    }\n</style>\n<table border=\"1\" class=\"dataframe\">\n  <thead>\n    <tr style=\"text-align: right;\">\n      <th></th>\n      <th>area</th>\n      <th>price</th>\n      <th>predict</th>\n    </tr>\n  </thead>\n  <tbody>\n    <tr>\n      <th>0</th>\n      <td>30.0000</td>\n      <td>448.524</td>\n      <td>449.268455</td>\n    </tr>\n    <tr>\n      <th>1</th>\n      <td>32.4138</td>\n      <td>509.248</td>\n      <td>485.984986</td>\n    </tr>\n    <tr>\n      <th>2</th>\n      <td>34.8276</td>\n      <td>535.104</td>\n      <td>522.701517</td>\n    </tr>\n    <tr>\n      <th>3</th>\n      <td>37.2414</td>\n      <td>551.432</td>\n      <td>559.418048</td>\n    </tr>\n    <tr>\n      <th>4</th>\n      <td>39.6552</td>\n      <td>623.418</td>\n      <td>596.134579</td>\n    </tr>\n  </tbody>\n</table>\n</div>"
     },
     "execution_count": 8,
     "metadata": {},
     "output_type": "execute_result"
    }
   ],
   "source": [
    "house_predict = house.add_predict_column()\n",
    "house_predict.head()"
   ],
   "metadata": {
    "collapsed": false,
    "pycharm": {
     "name": "#%%\n"
    }
   }
  },
  {
   "cell_type": "code",
   "execution_count": 9,
   "outputs": [
    {
     "data": {
      "text/plain": "[<matplotlib.lines.Line2D at 0x20d4bc70a90>]"
     },
     "execution_count": 9,
     "metadata": {},
     "output_type": "execute_result"
    },
    {
     "data": {
      "text/plain": "<Figure size 432x288 with 1 Axes>",
      "image/png": "[encoded data removed]"
     },
     "metadata": {
      "needs_background": "light"
     },
     "output_type": "display_data"
    }
   ],
   "source": [
    "plt.scatter(house_predict.index, house_predict.price)\n",
    "plt.plot(house_predict.predict,'red')"
   ],
   "metadata": {
    "collapsed": false,
    "pycharm": {
     "name": "#%%\n"
    }
   }
  },
  {
   "cell_type": "code",
   "execution_count": 10,
   "outputs": [
    {
     "name": "stdout",
     "output_type": "stream",
     "text": [
      "y = -0.10801135783677955 CRIM + 0.04642045836688676 ZN + 0.02055862636716503 INDUS + 2.6867338193460037 CHAS + -17.766611228295282 NOX + 3.809865206810706 RM + 0.000692224640346243 AGE + -1.4755668455999065 DIS + 0.30604947898516055 RAD + -0.012334593916578011 TAX + -0.9527472317068831 PTRATIO + 0.009311683273796997 B + -0.5247583778554239 LSTAT + 36.4594883850676\n"
     ]
    }
   ],
   "source": [
    "boston = LinearRegression(boston_dataframe, 'MEDV')\n",
    "boston.find_coefficient()\n",
    "boston.print_model()"
   ],
   "metadata": {
    "collapsed": false,
    "pycharm": {
     "name": "#%%\n"
    }
   }
  },
  {
   "cell_type": "code",
   "execution_count": 11,
   "outputs": [
    {
     "data": {
      "text/plain": "   index      CRIM   ZN  INDUS  CHAS    NOX     RM    AGE     DIS  RAD    TAX  \\\n0    414  45.74610  0.0  18.10     0  0.693  4.519  100.0  1.6582   24  666.0   \n1    374  18.49820  0.0  18.10     0  0.668  4.138  100.0  1.1370   24  666.0   \n2    412  18.81100  0.0  18.10     0  0.597  4.628  100.0  1.5539   24  666.0   \n3    384  20.08490  0.0  18.10     0  0.700  4.368   91.2  1.4395   24  666.0   \n4    490   0.20746  0.0  27.74     0  0.609  5.093   98.0  1.8226    4  711.0   \n\n   PTRATIO       B  LSTAT  MEDV   predict  \n0     20.2   88.27  36.98   7.0 -4.281311  \n1     20.2  396.90  37.97  13.8  0.777798  \n2     20.2   28.79  34.37  17.9  1.718518  \n3     20.2  285.83  30.63   8.8  3.279181  \n4     20.1  318.43  29.68   8.1  3.663997  ",
      "text/html": "<div>\n<style scoped>\n    .dataframe tbody tr th:only-of-type {\n        vertical-align: middle;\n    }\n\n    .dataframe tbody tr th {\n        vertical-align: top;\n    }\n\n    .dataframe thead th {\n        text-align: right;\n    }\n</style>\n<table border=\"1\" class=\"dataframe\">\n  <thead>\n    <tr style=\"text-align: right;\">\n      <th></th>\n      <th>index</th>\n      <th>CRIM</th>\n      <th>ZN</th>\n      <th>INDUS</th>\n      <th>CHAS</th>\n      <th>NOX</th>\n      <th>RM</th>\n      <th>AGE</th>\n      <th>DIS</th>\n      <th>RAD</th>\n      <th>TAX</th>\n      <th>PTRATIO</th>\n      <th>B</th>\n      <th>LSTAT</th>\n      <th>MEDV</th>\n      <th>predict</th>\n    </tr>\n  </thead>\n  <tbody>\n    <tr>\n      <th>0</th>\n      <td>414</td>\n      <td>45.74610</td>\n      <td>0.0</td>\n      <td>18.10</td>\n      <td>0</td>\n      <td>0.693</td>\n      <td>4.519</td>\n      <td>100.0</td>\n      <td>1.6582</td>\n      <td>24</td>\n      <td>666.0</td>\n      <td>20.2</td>\n      <td>88.27</td>\n      <td>36.98</td>\n      <td>7.0</td>\n      <td>-4.281311</td>\n    </tr>\n    <tr>\n      <th>1</th>\n      <td>374</td>\n      <td>18.49820</td>\n      <td>0.0</td>\n      <td>18.10</td>\n      <td>0</td>\n      <td>0.668</td>\n      <td>4.138</td>\n      <td>100.0</td>\n      <td>1.1370</td>\n      <td>24</td>\n      <td>666.0</td>\n      <td>20.2</td>\n      <td>396.90</td>\n      <td>37.97</td>\n      <td>13.8</td>\n      <td>0.777798</td>\n    </tr>\n    <tr>\n      <th>2</th>\n      <td>412</td>\n      <td>18.81100</td>\n      <td>0.0</td>\n      <td>18.10</td>\n      <td>0</td>\n      <td>0.597</td>\n      <td>4.628</td>\n      <td>100.0</td>\n      <td>1.5539</td>\n      <td>24</td>\n      <td>666.0</td>\n      <td>20.2</td>\n      <td>28.79</td>\n      <td>34.37</td>\n      <td>17.9</td>\n      <td>1.718518</td>\n    </tr>\n    <tr>\n      <th>3</th>\n      <td>384</td>\n      <td>20.08490</td>\n      <td>0.0</td>\n      <td>18.10</td>\n      <td>0</td>\n      <td>0.700</td>\n      <td>4.368</td>\n      <td>91.2</td>\n      <td>1.4395</td>\n      <td>24</td>\n      <td>666.0</td>\n      <td>20.2</td>\n      <td>285.83</td>\n      <td>30.63</td>\n      <td>8.8</td>\n      <td>3.279181</td>\n    </tr>\n    <tr>\n      <th>4</th>\n      <td>490</td>\n      <td>0.20746</td>\n      <td>0.0</td>\n      <td>27.74</td>\n      <td>0</td>\n      <td>0.609</td>\n      <td>5.093</td>\n      <td>98.0</td>\n      <td>1.8226</td>\n      <td>4</td>\n      <td>711.0</td>\n      <td>20.1</td>\n      <td>318.43</td>\n      <td>29.68</td>\n      <td>8.1</td>\n      <td>3.663997</td>\n    </tr>\n  </tbody>\n</table>\n</div>"
     },
     "execution_count": 11,
     "metadata": {},
     "output_type": "execute_result"
    }
   ],
   "source": [
    "boston_predict = boston.add_predict_column()\n",
    "boston_predict.sort_values(by= 'predict', ascending=True, inplace= True)\n",
    "boston_predict.reset_index(inplace= True)\n",
    "boston_predict.head()"
   ],
   "metadata": {
    "collapsed": false,
    "pycharm": {
     "name": "#%%\n"
    }
   }
  },
  {
   "cell_type": "code",
   "execution_count": 12,
   "outputs": [
    {
     "data": {
      "text/plain": "[<matplotlib.lines.Line2D at 0x20d4c599670>]"
     },
     "execution_count": 12,
     "metadata": {},
     "output_type": "execute_result"
    },
    {
     "data": {
      "text/plain": "<Figure size 432x288 with 1 Axes>",
      "image/png": "[encoded data removed]"
     },
     "metadata": {
      "needs_background": "light"
     },
     "output_type": "display_data"
    }
   ],
   "source": [
    "plt.scatter(boston_predict.index, boston_predict.MEDV)\n",
    "plt.plot(boston_predict.predict,'r')"
   ],
   "metadata": {
    "collapsed": false,
    "pycharm": {
     "name": "#%%\n"
    }
   }
  },
  {
   "cell_type": "code",
   "execution_count": 12,
   "outputs": [],
   "source": [],
   "metadata": {
    "collapsed": false,
    "pycharm": {
     "name": "#%%\n"
    }
   }
  }
 ],
 "metadata": {
  "kernelspec": {
   "display_name": "Python 3",
   "language": "python",
   "name": "python3"
  },
  "language_info": {
   "codemirror_mode": {
    "name": "ipython",
    "version": 2
   },
   "file_extension": ".py",
   "mimetype": "text/x-python",
   "name": "python",
   "nbconvert_exporter": "python",
   "pygments_lexer": "ipython2",
   "version": "2.7.6"
  }
 },
 "nbformat": 4,
 "nbformat_minor": 0
}